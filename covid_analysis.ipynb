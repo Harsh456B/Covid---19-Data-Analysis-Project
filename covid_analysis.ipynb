{
 "cells": [
  {
   "cell_type": "markdown",
   "id": "993c0401-713c-4685-8834-bf840e45dbd8",
   "metadata": {},
   "source": [
    "# Title: Problem for Covid - 19 Data Analysis Project using Python\n",
    "\n",
    "# Import the library\n"
   ]
  },
  {
   "cell_type": "code",
   "execution_count": 2,
   "id": "a0bd3461-cf30-4f87-89ca-77d636a0931f",
   "metadata": {},
   "outputs": [],
   "source": [
    "import numpy as np\n",
    "import pandas as pd\n",
    "import matplotlib.pyplot as plt\n",
    "import seaborn as sns"
   ]
  },
  {
   "cell_type": "markdown",
   "id": "ec65e905-b6d1-4664-8a3a-5499329ea74e",
   "metadata": {},
   "source": [
    "# 1. Import the dataset using Pandas from above mentioned url"
   ]
  },
  {
   "cell_type": "code",
   "execution_count": 3,
   "id": "af7e8d15-d327-4c47-b453-c4ceb5911d4d",
   "metadata": {},
   "outputs": [],
   "source": [
    "df = pd.read_csv(\"covid_Data.csv\", sep =\",\")"
   ]
  },
  {
   "cell_type": "markdown",
   "id": "d0413e82-6b0e-4462-b91b-89a65f043be3",
   "metadata": {},
   "source": [
    "# display first 5 rows"
   ]
  },
  {
   "cell_type": "code",
   "execution_count": 4,
   "id": "0bfc25a0-02ee-4bd9-8b97-4c4ba4c9f874",
   "metadata": {},
   "outputs": [
    {
     "data": {
      "text/html": [
       "<div>\n",
       "<style scoped>\n",
       "    .dataframe tbody tr th:only-of-type {\n",
       "        vertical-align: middle;\n",
       "    }\n",
       "\n",
       "    .dataframe tbody tr th {\n",
       "        vertical-align: top;\n",
       "    }\n",
       "\n",
       "    .dataframe thead th {\n",
       "        text-align: right;\n",
       "    }\n",
       "</style>\n",
       "<table border=\"1\" class=\"dataframe\">\n",
       "  <thead>\n",
       "    <tr style=\"text-align: right;\">\n",
       "      <th></th>\n",
       "      <th>Unnamed: 0</th>\n",
       "      <th>continent</th>\n",
       "      <th>location</th>\n",
       "      <th>date</th>\n",
       "      <th>total_cases</th>\n",
       "      <th>total_deaths</th>\n",
       "      <th>gdp_per_capita</th>\n",
       "      <th>human_development_index</th>\n",
       "      <th>month</th>\n",
       "    </tr>\n",
       "  </thead>\n",
       "  <tbody>\n",
       "    <tr>\n",
       "      <th>0</th>\n",
       "      <td>0</td>\n",
       "      <td>Asia</td>\n",
       "      <td>Afghanistan</td>\n",
       "      <td>2019-12-31</td>\n",
       "      <td>0.0</td>\n",
       "      <td>0.0</td>\n",
       "      <td>1803.987</td>\n",
       "      <td>0.498</td>\n",
       "      <td>12</td>\n",
       "    </tr>\n",
       "    <tr>\n",
       "      <th>1</th>\n",
       "      <td>1</td>\n",
       "      <td>Asia</td>\n",
       "      <td>Afghanistan</td>\n",
       "      <td>2020-01-01</td>\n",
       "      <td>0.0</td>\n",
       "      <td>0.0</td>\n",
       "      <td>1803.987</td>\n",
       "      <td>0.498</td>\n",
       "      <td>1</td>\n",
       "    </tr>\n",
       "    <tr>\n",
       "      <th>2</th>\n",
       "      <td>2</td>\n",
       "      <td>Asia</td>\n",
       "      <td>Afghanistan</td>\n",
       "      <td>2020-02-01</td>\n",
       "      <td>0.0</td>\n",
       "      <td>0.0</td>\n",
       "      <td>1803.987</td>\n",
       "      <td>0.498</td>\n",
       "      <td>2</td>\n",
       "    </tr>\n",
       "    <tr>\n",
       "      <th>3</th>\n",
       "      <td>3</td>\n",
       "      <td>Asia</td>\n",
       "      <td>Afghanistan</td>\n",
       "      <td>2020-03-01</td>\n",
       "      <td>0.0</td>\n",
       "      <td>0.0</td>\n",
       "      <td>1803.987</td>\n",
       "      <td>0.498</td>\n",
       "      <td>3</td>\n",
       "    </tr>\n",
       "    <tr>\n",
       "      <th>4</th>\n",
       "      <td>4</td>\n",
       "      <td>Asia</td>\n",
       "      <td>Afghanistan</td>\n",
       "      <td>2020-04-01</td>\n",
       "      <td>0.0</td>\n",
       "      <td>0.0</td>\n",
       "      <td>1803.987</td>\n",
       "      <td>0.498</td>\n",
       "      <td>4</td>\n",
       "    </tr>\n",
       "  </tbody>\n",
       "</table>\n",
       "</div>"
      ],
      "text/plain": [
       "   Unnamed: 0 continent     location        date  total_cases  total_deaths  \\\n",
       "0           0      Asia  Afghanistan  2019-12-31          0.0           0.0   \n",
       "1           1      Asia  Afghanistan  2020-01-01          0.0           0.0   \n",
       "2           2      Asia  Afghanistan  2020-02-01          0.0           0.0   \n",
       "3           3      Asia  Afghanistan  2020-03-01          0.0           0.0   \n",
       "4           4      Asia  Afghanistan  2020-04-01          0.0           0.0   \n",
       "\n",
       "   gdp_per_capita  human_development_index  month  \n",
       "0        1803.987                    0.498     12  \n",
       "1        1803.987                    0.498      1  \n",
       "2        1803.987                    0.498      2  \n",
       "3        1803.987                    0.498      3  \n",
       "4        1803.987                    0.498      4  "
      ]
     },
     "execution_count": 4,
     "metadata": {},
     "output_type": "execute_result"
    }
   ],
   "source": [
    "df.head()"
   ]
  },
  {
   "cell_type": "markdown",
   "id": "bb06cc1c-a748-4afa-9ea6-346d8a9d2a09",
   "metadata": {},
   "source": [
    "# display last 5 rows"
   ]
  },
  {
   "cell_type": "code",
   "execution_count": 5,
   "id": "aa689790-59c9-4468-9153-27814dc6ec5a",
   "metadata": {},
   "outputs": [
    {
     "data": {
      "text/html": [
       "<div>\n",
       "<style scoped>\n",
       "    .dataframe tbody tr th:only-of-type {\n",
       "        vertical-align: middle;\n",
       "    }\n",
       "\n",
       "    .dataframe tbody tr th {\n",
       "        vertical-align: top;\n",
       "    }\n",
       "\n",
       "    .dataframe thead th {\n",
       "        text-align: right;\n",
       "    }\n",
       "</style>\n",
       "<table border=\"1\" class=\"dataframe\">\n",
       "  <thead>\n",
       "    <tr style=\"text-align: right;\">\n",
       "      <th></th>\n",
       "      <th>Unnamed: 0</th>\n",
       "      <th>continent</th>\n",
       "      <th>location</th>\n",
       "      <th>date</th>\n",
       "      <th>total_cases</th>\n",
       "      <th>total_deaths</th>\n",
       "      <th>gdp_per_capita</th>\n",
       "      <th>human_development_index</th>\n",
       "      <th>month</th>\n",
       "    </tr>\n",
       "  </thead>\n",
       "  <tbody>\n",
       "    <tr>\n",
       "      <th>57389</th>\n",
       "      <td>57389</td>\n",
       "      <td>0</td>\n",
       "      <td>International</td>\n",
       "      <td>2020-11-13</td>\n",
       "      <td>696.0</td>\n",
       "      <td>7.0</td>\n",
       "      <td>0.0</td>\n",
       "      <td>0.0</td>\n",
       "      <td>11</td>\n",
       "    </tr>\n",
       "    <tr>\n",
       "      <th>57390</th>\n",
       "      <td>57390</td>\n",
       "      <td>0</td>\n",
       "      <td>International</td>\n",
       "      <td>2020-11-14</td>\n",
       "      <td>696.0</td>\n",
       "      <td>7.0</td>\n",
       "      <td>0.0</td>\n",
       "      <td>0.0</td>\n",
       "      <td>11</td>\n",
       "    </tr>\n",
       "    <tr>\n",
       "      <th>57391</th>\n",
       "      <td>57391</td>\n",
       "      <td>0</td>\n",
       "      <td>International</td>\n",
       "      <td>2020-11-15</td>\n",
       "      <td>696.0</td>\n",
       "      <td>7.0</td>\n",
       "      <td>0.0</td>\n",
       "      <td>0.0</td>\n",
       "      <td>11</td>\n",
       "    </tr>\n",
       "    <tr>\n",
       "      <th>57392</th>\n",
       "      <td>57392</td>\n",
       "      <td>0</td>\n",
       "      <td>International</td>\n",
       "      <td>2020-11-16</td>\n",
       "      <td>696.0</td>\n",
       "      <td>7.0</td>\n",
       "      <td>0.0</td>\n",
       "      <td>0.0</td>\n",
       "      <td>11</td>\n",
       "    </tr>\n",
       "    <tr>\n",
       "      <th>57393</th>\n",
       "      <td>57393</td>\n",
       "      <td>0</td>\n",
       "      <td>International</td>\n",
       "      <td>2020-11-17</td>\n",
       "      <td>696.0</td>\n",
       "      <td>7.0</td>\n",
       "      <td>0.0</td>\n",
       "      <td>0.0</td>\n",
       "      <td>11</td>\n",
       "    </tr>\n",
       "  </tbody>\n",
       "</table>\n",
       "</div>"
      ],
      "text/plain": [
       "       Unnamed: 0 continent       location        date  total_cases  \\\n",
       "57389       57389         0  International  2020-11-13        696.0   \n",
       "57390       57390         0  International  2020-11-14        696.0   \n",
       "57391       57391         0  International  2020-11-15        696.0   \n",
       "57392       57392         0  International  2020-11-16        696.0   \n",
       "57393       57393         0  International  2020-11-17        696.0   \n",
       "\n",
       "       total_deaths  gdp_per_capita  human_development_index  month  \n",
       "57389           7.0             0.0                      0.0     11  \n",
       "57390           7.0             0.0                      0.0     11  \n",
       "57391           7.0             0.0                      0.0     11  \n",
       "57392           7.0             0.0                      0.0     11  \n",
       "57393           7.0             0.0                      0.0     11  "
      ]
     },
     "execution_count": 5,
     "metadata": {},
     "output_type": "execute_result"
    }
   ],
   "source": [
    "df.tail()"
   ]
  },
  {
   "cell_type": "markdown",
   "id": "0eef3a3b-8230-4f50-bfd9-5aa187c6c7ad",
   "metadata": {},
   "source": [
    "# 2. High Level Data Understanding:"
   ]
  },
  {
   "cell_type": "markdown",
   "id": "b9a1a957-539f-41cd-912f-0d12baad590f",
   "metadata": {},
   "source": [
    "# A). Find no.of rows & columns in the dataset"
   ]
  },
  {
   "cell_type": "code",
   "execution_count": 6,
   "id": "8eafe789-5c81-489b-a39e-8eea08cd6612",
   "metadata": {},
   "outputs": [
    {
     "data": {
      "text/plain": [
       "(57394, 9)"
      ]
     },
     "execution_count": 6,
     "metadata": {},
     "output_type": "execute_result"
    }
   ],
   "source": [
    "df.shape"
   ]
  },
  {
   "cell_type": "markdown",
   "id": "900a0cec-dcd4-43f0-b7ed-759d972bc58c",
   "metadata": {},
   "source": [
    "# B). Data types of columns"
   ]
  },
  {
   "cell_type": "code",
   "execution_count": 7,
   "id": "a3866ab7-9258-4086-84d4-3b83f43164bc",
   "metadata": {},
   "outputs": [
    {
     "data": {
      "text/plain": [
       "Unnamed: 0                   int64\n",
       "continent                   object\n",
       "location                    object\n",
       "date                        object\n",
       "total_cases                float64\n",
       "total_deaths               float64\n",
       "gdp_per_capita             float64\n",
       "human_development_index    float64\n",
       "month                        int64\n",
       "dtype: object"
      ]
     },
     "execution_count": 7,
     "metadata": {},
     "output_type": "execute_result"
    }
   ],
   "source": [
    "df.dtypes"
   ]
  },
  {
   "cell_type": "markdown",
   "id": "7e678439-a6be-4d32-acaa-2152b6c55364",
   "metadata": {},
   "source": [
    "# C). Info & describe of data in dataframe"
   ]
  },
  {
   "cell_type": "code",
   "execution_count": 8,
   "id": "262f41ff-f2d3-4068-9c7c-4586c3b9458c",
   "metadata": {},
   "outputs": [
    {
     "name": "stdout",
     "output_type": "stream",
     "text": [
      "<class 'pandas.core.frame.DataFrame'>\n",
      "RangeIndex: 57394 entries, 0 to 57393\n",
      "Data columns (total 9 columns):\n",
      " #   Column                   Non-Null Count  Dtype  \n",
      "---  ------                   --------------  -----  \n",
      " 0   Unnamed: 0               57394 non-null  int64  \n",
      " 1   continent                57394 non-null  object \n",
      " 2   location                 57394 non-null  object \n",
      " 3   date                     57394 non-null  object \n",
      " 4   total_cases              57394 non-null  float64\n",
      " 5   total_deaths             57394 non-null  float64\n",
      " 6   gdp_per_capita           57394 non-null  float64\n",
      " 7   human_development_index  57394 non-null  float64\n",
      " 8   month                    57394 non-null  int64  \n",
      "dtypes: float64(4), int64(2), object(3)\n",
      "memory usage: 3.9+ MB\n"
     ]
    }
   ],
   "source": [
    "df.info()"
   ]
  },
  {
   "cell_type": "code",
   "execution_count": 9,
   "id": "36e90d0f-5604-4344-9e8b-b4156110b514",
   "metadata": {},
   "outputs": [
    {
     "data": {
      "text/html": [
       "<div>\n",
       "<style scoped>\n",
       "    .dataframe tbody tr th:only-of-type {\n",
       "        vertical-align: middle;\n",
       "    }\n",
       "\n",
       "    .dataframe tbody tr th {\n",
       "        vertical-align: top;\n",
       "    }\n",
       "\n",
       "    .dataframe thead th {\n",
       "        text-align: right;\n",
       "    }\n",
       "</style>\n",
       "<table border=\"1\" class=\"dataframe\">\n",
       "  <thead>\n",
       "    <tr style=\"text-align: right;\">\n",
       "      <th></th>\n",
       "      <th>Unnamed: 0</th>\n",
       "      <th>continent</th>\n",
       "      <th>location</th>\n",
       "      <th>date</th>\n",
       "      <th>total_cases</th>\n",
       "      <th>total_deaths</th>\n",
       "      <th>gdp_per_capita</th>\n",
       "      <th>human_development_index</th>\n",
       "      <th>month</th>\n",
       "    </tr>\n",
       "  </thead>\n",
       "  <tbody>\n",
       "    <tr>\n",
       "      <th>count</th>\n",
       "      <td>57394.00</td>\n",
       "      <td>57394</td>\n",
       "      <td>57394</td>\n",
       "      <td>57394</td>\n",
       "      <td>57394.00</td>\n",
       "      <td>57394.00</td>\n",
       "      <td>57394.00</td>\n",
       "      <td>57394.00</td>\n",
       "      <td>57394.00</td>\n",
       "    </tr>\n",
       "    <tr>\n",
       "      <th>unique</th>\n",
       "      <td>NaN</td>\n",
       "      <td>7</td>\n",
       "      <td>216</td>\n",
       "      <td>323</td>\n",
       "      <td>NaN</td>\n",
       "      <td>NaN</td>\n",
       "      <td>NaN</td>\n",
       "      <td>NaN</td>\n",
       "      <td>NaN</td>\n",
       "    </tr>\n",
       "    <tr>\n",
       "      <th>top</th>\n",
       "      <td>NaN</td>\n",
       "      <td>Europe</td>\n",
       "      <td>Afghanistan</td>\n",
       "      <td>2020-10-30</td>\n",
       "      <td>NaN</td>\n",
       "      <td>NaN</td>\n",
       "      <td>NaN</td>\n",
       "      <td>NaN</td>\n",
       "      <td>NaN</td>\n",
       "    </tr>\n",
       "    <tr>\n",
       "      <th>freq</th>\n",
       "      <td>NaN</td>\n",
       "      <td>14828</td>\n",
       "      <td>323</td>\n",
       "      <td>215</td>\n",
       "      <td>NaN</td>\n",
       "      <td>NaN</td>\n",
       "      <td>NaN</td>\n",
       "      <td>NaN</td>\n",
       "      <td>NaN</td>\n",
       "    </tr>\n",
       "    <tr>\n",
       "      <th>mean</th>\n",
       "      <td>28696.50</td>\n",
       "      <td>NaN</td>\n",
       "      <td>NaN</td>\n",
       "      <td>NaN</td>\n",
       "      <td>157167.14</td>\n",
       "      <td>5302.02</td>\n",
       "      <td>18095.55</td>\n",
       "      <td>0.62</td>\n",
       "      <td>6.43</td>\n",
       "    </tr>\n",
       "    <tr>\n",
       "      <th>std</th>\n",
       "      <td>16568.37</td>\n",
       "      <td>NaN</td>\n",
       "      <td>NaN</td>\n",
       "      <td>NaN</td>\n",
       "      <td>1639040.66</td>\n",
       "      <td>49128.02</td>\n",
       "      <td>20191.89</td>\n",
       "      <td>0.29</td>\n",
       "      <td>3.01</td>\n",
       "    </tr>\n",
       "    <tr>\n",
       "      <th>min</th>\n",
       "      <td>0.00</td>\n",
       "      <td>NaN</td>\n",
       "      <td>NaN</td>\n",
       "      <td>NaN</td>\n",
       "      <td>0.00</td>\n",
       "      <td>0.00</td>\n",
       "      <td>0.00</td>\n",
       "      <td>0.00</td>\n",
       "      <td>1.00</td>\n",
       "    </tr>\n",
       "    <tr>\n",
       "      <th>25%</th>\n",
       "      <td>14348.25</td>\n",
       "      <td>NaN</td>\n",
       "      <td>NaN</td>\n",
       "      <td>NaN</td>\n",
       "      <td>89.00</td>\n",
       "      <td>1.00</td>\n",
       "      <td>2683.30</td>\n",
       "      <td>0.50</td>\n",
       "      <td>4.00</td>\n",
       "    </tr>\n",
       "    <tr>\n",
       "      <th>50%</th>\n",
       "      <td>28696.50</td>\n",
       "      <td>NaN</td>\n",
       "      <td>NaN</td>\n",
       "      <td>NaN</td>\n",
       "      <td>1545.00</td>\n",
       "      <td>31.00</td>\n",
       "      <td>11669.08</td>\n",
       "      <td>0.72</td>\n",
       "      <td>6.00</td>\n",
       "    </tr>\n",
       "    <tr>\n",
       "      <th>75%</th>\n",
       "      <td>43044.75</td>\n",
       "      <td>NaN</td>\n",
       "      <td>NaN</td>\n",
       "      <td>NaN</td>\n",
       "      <td>17974.25</td>\n",
       "      <td>354.00</td>\n",
       "      <td>27216.44</td>\n",
       "      <td>0.82</td>\n",
       "      <td>9.00</td>\n",
       "    </tr>\n",
       "    <tr>\n",
       "      <th>max</th>\n",
       "      <td>57393.00</td>\n",
       "      <td>NaN</td>\n",
       "      <td>NaN</td>\n",
       "      <td>NaN</td>\n",
       "      <td>55154651.00</td>\n",
       "      <td>1328537.00</td>\n",
       "      <td>116935.60</td>\n",
       "      <td>0.95</td>\n",
       "      <td>12.00</td>\n",
       "    </tr>\n",
       "  </tbody>\n",
       "</table>\n",
       "</div>"
      ],
      "text/plain": [
       "        Unnamed: 0 continent     location        date  total_cases  \\\n",
       "count     57394.00     57394        57394       57394     57394.00   \n",
       "unique         NaN         7          216         323          NaN   \n",
       "top            NaN    Europe  Afghanistan  2020-10-30          NaN   \n",
       "freq           NaN     14828          323         215          NaN   \n",
       "mean      28696.50       NaN          NaN         NaN    157167.14   \n",
       "std       16568.37       NaN          NaN         NaN   1639040.66   \n",
       "min           0.00       NaN          NaN         NaN         0.00   \n",
       "25%       14348.25       NaN          NaN         NaN        89.00   \n",
       "50%       28696.50       NaN          NaN         NaN      1545.00   \n",
       "75%       43044.75       NaN          NaN         NaN     17974.25   \n",
       "max       57393.00       NaN          NaN         NaN  55154651.00   \n",
       "\n",
       "        total_deaths  gdp_per_capita  human_development_index     month  \n",
       "count       57394.00        57394.00                 57394.00  57394.00  \n",
       "unique           NaN             NaN                      NaN       NaN  \n",
       "top              NaN             NaN                      NaN       NaN  \n",
       "freq             NaN             NaN                      NaN       NaN  \n",
       "mean         5302.02        18095.55                     0.62      6.43  \n",
       "std         49128.02        20191.89                     0.29      3.01  \n",
       "min             0.00            0.00                     0.00      1.00  \n",
       "25%             1.00         2683.30                     0.50      4.00  \n",
       "50%            31.00        11669.08                     0.72      6.00  \n",
       "75%           354.00        27216.44                     0.82      9.00  \n",
       "max       1328537.00       116935.60                     0.95     12.00  "
      ]
     },
     "execution_count": 9,
     "metadata": {},
     "output_type": "execute_result"
    }
   ],
   "source": [
    "pd.set_option('display.max_columns', None)\n",
    "df.describe(include=\"all\").round(2)"
   ]
  },
  {
   "cell_type": "markdown",
   "id": "1d85070b-4600-4d2a-96a7-48befc337084",
   "metadata": {},
   "source": [
    "# 3). Low Level Data Understanding :"
   ]
  },
  {
   "cell_type": "markdown",
   "id": "f0d83251-7ee0-4adb-a0b6-2887d70695ee",
   "metadata": {},
   "source": [
    "# a). Find count of unique values in location column"
   ]
  },
  {
   "cell_type": "code",
   "execution_count": 10,
   "id": "a120dc2e-7c0f-4621-80be-1f13202b6adb",
   "metadata": {},
   "outputs": [
    {
     "data": {
      "text/plain": [
       "216"
      ]
     },
     "execution_count": 10,
     "metadata": {},
     "output_type": "execute_result"
    }
   ],
   "source": [
    "df['location'].nunique()"
   ]
  },
  {
   "cell_type": "markdown",
   "id": "18f03abd-a29a-4d4d-8745-5e215ab03a52",
   "metadata": {},
   "source": [
    "# b). Find which continent has maximum frequency using values counts. "
   ]
  },
  {
   "cell_type": "code",
   "execution_count": 11,
   "id": "f34fd2cf-c5bd-41ee-bf3c-46ad02e34107",
   "metadata": {},
   "outputs": [
    {
     "data": {
      "text/plain": [
       "continent\n",
       "Europe           14828\n",
       "Africa           13637\n",
       "Asia             13528\n",
       "North America     9116\n",
       "South America     3404\n",
       "Oceania           2235\n",
       "0                  646\n",
       "Name: count, dtype: int64"
      ]
     },
     "execution_count": 11,
     "metadata": {},
     "output_type": "execute_result"
    }
   ],
   "source": [
    "df['continent'].value_counts()"
   ]
  },
  {
   "cell_type": "markdown",
   "id": "52635439-7613-4b39-b411-73d2af63eeec",
   "metadata": {},
   "source": [
    "# c). Find maximum & mean value in 'total_cases'"
   ]
  },
  {
   "cell_type": "code",
   "execution_count": 12,
   "id": "eab4c479-ab31-4ca8-9fd6-17a5be36e8d4",
   "metadata": {},
   "outputs": [
    {
     "data": {
      "text/plain": [
       "55154651.0"
      ]
     },
     "execution_count": 12,
     "metadata": {},
     "output_type": "execute_result"
    }
   ],
   "source": [
    "df['total_cases'].max()"
   ]
  },
  {
   "cell_type": "code",
   "execution_count": 13,
   "id": "f5f5de48-4166-436d-bfdf-9a511f0dbefe",
   "metadata": {},
   "outputs": [
    {
     "data": {
      "text/plain": [
       "157167.1421402934"
      ]
     },
     "execution_count": 13,
     "metadata": {},
     "output_type": "execute_result"
    }
   ],
   "source": [
    "df['total_cases'].mean()"
   ]
  },
  {
   "cell_type": "code",
   "execution_count": 14,
   "id": "27433078-027f-4450-8462-0800ef6b48e7",
   "metadata": {},
   "outputs": [
    {
     "data": {
      "text/plain": [
       "0.0"
      ]
     },
     "execution_count": 14,
     "metadata": {},
     "output_type": "execute_result"
    }
   ],
   "source": [
    "df['total_cases'].min()"
   ]
  },
  {
   "cell_type": "markdown",
   "id": "82222b1f-dd55-4d33-9c3f-00b13fb62e57",
   "metadata": {},
   "source": [
    "# d). Find 25%,50% & 75% quartile value in 'total_deaths'"
   ]
  },
  {
   "cell_type": "code",
   "execution_count": 15,
   "id": "377c0697-1eb5-468e-b55e-3e68df3a64f9",
   "metadata": {},
   "outputs": [
    {
     "data": {
      "text/plain": [
       "count      57394.00\n",
       "mean        5302.02\n",
       "std        49128.02\n",
       "min            0.00\n",
       "25%            1.00\n",
       "50%           31.00\n",
       "75%          354.00\n",
       "max      1328537.00\n",
       "Name: total_deaths, dtype: float64"
      ]
     },
     "execution_count": 15,
     "metadata": {},
     "output_type": "execute_result"
    }
   ],
   "source": [
    "df['total_deaths'].describe().round(2)"
   ]
  },
  {
   "cell_type": "markdown",
   "id": "09b6c604-25c2-401d-b8e7-27d10a4b949f",
   "metadata": {},
   "source": [
    "# e). Find which continent has maximum 'human_development_index'."
   ]
  },
  {
   "cell_type": "code",
   "execution_count": 16,
   "id": "c3fed56f-db27-4d26-9d1e-b29bbc264c55",
   "metadata": {},
   "outputs": [
    {
     "data": {
      "text/html": [
       "<div>\n",
       "<style scoped>\n",
       "    .dataframe tbody tr th:only-of-type {\n",
       "        vertical-align: middle;\n",
       "    }\n",
       "\n",
       "    .dataframe tbody tr th {\n",
       "        vertical-align: top;\n",
       "    }\n",
       "\n",
       "    .dataframe thead th {\n",
       "        text-align: right;\n",
       "    }\n",
       "</style>\n",
       "<table border=\"1\" class=\"dataframe\">\n",
       "  <thead>\n",
       "    <tr style=\"text-align: right;\">\n",
       "      <th></th>\n",
       "      <th>human_development_index</th>\n",
       "    </tr>\n",
       "    <tr>\n",
       "      <th>continent</th>\n",
       "      <th></th>\n",
       "    </tr>\n",
       "  </thead>\n",
       "  <tbody>\n",
       "    <tr>\n",
       "      <th>0</th>\n",
       "      <td>0.0</td>\n",
       "    </tr>\n",
       "  </tbody>\n",
       "</table>\n",
       "</div>"
      ],
      "text/plain": [
       "           human_development_index\n",
       "continent                         \n",
       "0                              0.0"
      ]
     },
     "execution_count": 16,
     "metadata": {},
     "output_type": "execute_result"
    }
   ],
   "source": [
    "df.groupby(\"continent\").agg({\"human_development_index\":\"max\"}).head(1)"
   ]
  },
  {
   "cell_type": "markdown",
   "id": "d73d3b5d-e539-4b0b-9c97-db34003830fe",
   "metadata": {},
   "source": [
    "# f). Find which continent has minimum 'gdp_per_capita'."
   ]
  },
  {
   "cell_type": "code",
   "execution_count": 17,
   "id": "5ea3747d-d93c-4111-8725-a4219d1b2862",
   "metadata": {},
   "outputs": [
    {
     "data": {
      "text/html": [
       "<div>\n",
       "<style scoped>\n",
       "    .dataframe tbody tr th:only-of-type {\n",
       "        vertical-align: middle;\n",
       "    }\n",
       "\n",
       "    .dataframe tbody tr th {\n",
       "        vertical-align: top;\n",
       "    }\n",
       "\n",
       "    .dataframe thead th {\n",
       "        text-align: right;\n",
       "    }\n",
       "</style>\n",
       "<table border=\"1\" class=\"dataframe\">\n",
       "  <thead>\n",
       "    <tr style=\"text-align: right;\">\n",
       "      <th></th>\n",
       "      <th>gdp_per_capita</th>\n",
       "    </tr>\n",
       "    <tr>\n",
       "      <th>continent</th>\n",
       "      <th></th>\n",
       "    </tr>\n",
       "  </thead>\n",
       "  <tbody>\n",
       "    <tr>\n",
       "      <th>0</th>\n",
       "      <td>0.0</td>\n",
       "    </tr>\n",
       "  </tbody>\n",
       "</table>\n",
       "</div>"
      ],
      "text/plain": [
       "           gdp_per_capita\n",
       "continent                \n",
       "0                     0.0"
      ]
     },
     "execution_count": 17,
     "metadata": {},
     "output_type": "execute_result"
    }
   ],
   "source": [
    "df.groupby('continent').agg({'gdp_per_capita':'min'}).head(1)"
   ]
  },
  {
   "cell_type": "markdown",
   "id": "edd3923e-28f8-42f0-af12-4524b28936cf",
   "metadata": {},
   "source": [
    "# 4). Filter the dataframe with only this columns: ['continent','location','date','total_cases','total_deaths','gdp_per_capita','human_development_index'] and update the data frame"
   ]
  },
  {
   "cell_type": "code",
   "execution_count": 18,
   "id": "d695f45f-3831-461d-9b08-93e59213333e",
   "metadata": {},
   "outputs": [],
   "source": [
    "df=df[['continent','location','date','total_cases','total_deaths','gdp_per_capita','human_development_index']]"
   ]
  },
  {
   "cell_type": "code",
   "execution_count": 19,
   "id": "2dec062a-74a6-4e57-81a4-9445097502cc",
   "metadata": {},
   "outputs": [
    {
     "data": {
      "text/html": [
       "<div>\n",
       "<style scoped>\n",
       "    .dataframe tbody tr th:only-of-type {\n",
       "        vertical-align: middle;\n",
       "    }\n",
       "\n",
       "    .dataframe tbody tr th {\n",
       "        vertical-align: top;\n",
       "    }\n",
       "\n",
       "    .dataframe thead th {\n",
       "        text-align: right;\n",
       "    }\n",
       "</style>\n",
       "<table border=\"1\" class=\"dataframe\">\n",
       "  <thead>\n",
       "    <tr style=\"text-align: right;\">\n",
       "      <th></th>\n",
       "      <th>continent</th>\n",
       "      <th>location</th>\n",
       "      <th>date</th>\n",
       "      <th>total_cases</th>\n",
       "      <th>total_deaths</th>\n",
       "      <th>gdp_per_capita</th>\n",
       "      <th>human_development_index</th>\n",
       "    </tr>\n",
       "  </thead>\n",
       "  <tbody>\n",
       "    <tr>\n",
       "      <th>0</th>\n",
       "      <td>Asia</td>\n",
       "      <td>Afghanistan</td>\n",
       "      <td>2019-12-31</td>\n",
       "      <td>0.0</td>\n",
       "      <td>0.0</td>\n",
       "      <td>1803.987</td>\n",
       "      <td>0.498</td>\n",
       "    </tr>\n",
       "    <tr>\n",
       "      <th>1</th>\n",
       "      <td>Asia</td>\n",
       "      <td>Afghanistan</td>\n",
       "      <td>2020-01-01</td>\n",
       "      <td>0.0</td>\n",
       "      <td>0.0</td>\n",
       "      <td>1803.987</td>\n",
       "      <td>0.498</td>\n",
       "    </tr>\n",
       "    <tr>\n",
       "      <th>2</th>\n",
       "      <td>Asia</td>\n",
       "      <td>Afghanistan</td>\n",
       "      <td>2020-02-01</td>\n",
       "      <td>0.0</td>\n",
       "      <td>0.0</td>\n",
       "      <td>1803.987</td>\n",
       "      <td>0.498</td>\n",
       "    </tr>\n",
       "    <tr>\n",
       "      <th>3</th>\n",
       "      <td>Asia</td>\n",
       "      <td>Afghanistan</td>\n",
       "      <td>2020-03-01</td>\n",
       "      <td>0.0</td>\n",
       "      <td>0.0</td>\n",
       "      <td>1803.987</td>\n",
       "      <td>0.498</td>\n",
       "    </tr>\n",
       "    <tr>\n",
       "      <th>4</th>\n",
       "      <td>Asia</td>\n",
       "      <td>Afghanistan</td>\n",
       "      <td>2020-04-01</td>\n",
       "      <td>0.0</td>\n",
       "      <td>0.0</td>\n",
       "      <td>1803.987</td>\n",
       "      <td>0.498</td>\n",
       "    </tr>\n",
       "    <tr>\n",
       "      <th>...</th>\n",
       "      <td>...</td>\n",
       "      <td>...</td>\n",
       "      <td>...</td>\n",
       "      <td>...</td>\n",
       "      <td>...</td>\n",
       "      <td>...</td>\n",
       "      <td>...</td>\n",
       "    </tr>\n",
       "    <tr>\n",
       "      <th>57389</th>\n",
       "      <td>0</td>\n",
       "      <td>International</td>\n",
       "      <td>2020-11-13</td>\n",
       "      <td>696.0</td>\n",
       "      <td>7.0</td>\n",
       "      <td>0.000</td>\n",
       "      <td>0.000</td>\n",
       "    </tr>\n",
       "    <tr>\n",
       "      <th>57390</th>\n",
       "      <td>0</td>\n",
       "      <td>International</td>\n",
       "      <td>2020-11-14</td>\n",
       "      <td>696.0</td>\n",
       "      <td>7.0</td>\n",
       "      <td>0.000</td>\n",
       "      <td>0.000</td>\n",
       "    </tr>\n",
       "    <tr>\n",
       "      <th>57391</th>\n",
       "      <td>0</td>\n",
       "      <td>International</td>\n",
       "      <td>2020-11-15</td>\n",
       "      <td>696.0</td>\n",
       "      <td>7.0</td>\n",
       "      <td>0.000</td>\n",
       "      <td>0.000</td>\n",
       "    </tr>\n",
       "    <tr>\n",
       "      <th>57392</th>\n",
       "      <td>0</td>\n",
       "      <td>International</td>\n",
       "      <td>2020-11-16</td>\n",
       "      <td>696.0</td>\n",
       "      <td>7.0</td>\n",
       "      <td>0.000</td>\n",
       "      <td>0.000</td>\n",
       "    </tr>\n",
       "    <tr>\n",
       "      <th>57393</th>\n",
       "      <td>0</td>\n",
       "      <td>International</td>\n",
       "      <td>2020-11-17</td>\n",
       "      <td>696.0</td>\n",
       "      <td>7.0</td>\n",
       "      <td>0.000</td>\n",
       "      <td>0.000</td>\n",
       "    </tr>\n",
       "  </tbody>\n",
       "</table>\n",
       "<p>57394 rows × 7 columns</p>\n",
       "</div>"
      ],
      "text/plain": [
       "      continent       location        date  total_cases  total_deaths  \\\n",
       "0          Asia    Afghanistan  2019-12-31          0.0           0.0   \n",
       "1          Asia    Afghanistan  2020-01-01          0.0           0.0   \n",
       "2          Asia    Afghanistan  2020-02-01          0.0           0.0   \n",
       "3          Asia    Afghanistan  2020-03-01          0.0           0.0   \n",
       "4          Asia    Afghanistan  2020-04-01          0.0           0.0   \n",
       "...         ...            ...         ...          ...           ...   \n",
       "57389         0  International  2020-11-13        696.0           7.0   \n",
       "57390         0  International  2020-11-14        696.0           7.0   \n",
       "57391         0  International  2020-11-15        696.0           7.0   \n",
       "57392         0  International  2020-11-16        696.0           7.0   \n",
       "57393         0  International  2020-11-17        696.0           7.0   \n",
       "\n",
       "       gdp_per_capita  human_development_index  \n",
       "0            1803.987                    0.498  \n",
       "1            1803.987                    0.498  \n",
       "2            1803.987                    0.498  \n",
       "3            1803.987                    0.498  \n",
       "4            1803.987                    0.498  \n",
       "...               ...                      ...  \n",
       "57389           0.000                    0.000  \n",
       "57390           0.000                    0.000  \n",
       "57391           0.000                    0.000  \n",
       "57392           0.000                    0.000  \n",
       "57393           0.000                    0.000  \n",
       "\n",
       "[57394 rows x 7 columns]"
      ]
     },
     "execution_count": 19,
     "metadata": {},
     "output_type": "execute_result"
    }
   ],
   "source": [
    "df"
   ]
  },
  {
   "cell_type": "markdown",
   "id": "5beac705-c3dd-4755-ab4c-964e16a37f80",
   "metadata": {},
   "source": [
    "# 5). Data Cleaning"
   ]
  },
  {
   "cell_type": "markdown",
   "id": "48c34478-664c-4bfd-afe3-55270e225109",
   "metadata": {},
   "source": [
    "# a). Remove all duplicates observations"
   ]
  },
  {
   "cell_type": "code",
   "execution_count": 20,
   "id": "f3be702b-4dd0-4a43-af30-afb6b473a0f2",
   "metadata": {},
   "outputs": [
    {
     "data": {
      "text/plain": [
       "0"
      ]
     },
     "execution_count": 20,
     "metadata": {},
     "output_type": "execute_result"
    }
   ],
   "source": [
    "df.duplicated().sum()"
   ]
  },
  {
   "cell_type": "code",
   "execution_count": 21,
   "id": "4e2876cf-b2c4-4458-9e60-2f99a7d5efe2",
   "metadata": {},
   "outputs": [
    {
     "data": {
      "text/html": [
       "<div>\n",
       "<style scoped>\n",
       "    .dataframe tbody tr th:only-of-type {\n",
       "        vertical-align: middle;\n",
       "    }\n",
       "\n",
       "    .dataframe tbody tr th {\n",
       "        vertical-align: top;\n",
       "    }\n",
       "\n",
       "    .dataframe thead th {\n",
       "        text-align: right;\n",
       "    }\n",
       "</style>\n",
       "<table border=\"1\" class=\"dataframe\">\n",
       "  <thead>\n",
       "    <tr style=\"text-align: right;\">\n",
       "      <th></th>\n",
       "      <th>continent</th>\n",
       "      <th>location</th>\n",
       "      <th>date</th>\n",
       "      <th>total_cases</th>\n",
       "      <th>total_deaths</th>\n",
       "      <th>gdp_per_capita</th>\n",
       "      <th>human_development_index</th>\n",
       "    </tr>\n",
       "  </thead>\n",
       "  <tbody>\n",
       "    <tr>\n",
       "      <th>0</th>\n",
       "      <td>Asia</td>\n",
       "      <td>Afghanistan</td>\n",
       "      <td>2019-12-31</td>\n",
       "      <td>0.0</td>\n",
       "      <td>0.0</td>\n",
       "      <td>1803.987</td>\n",
       "      <td>0.498</td>\n",
       "    </tr>\n",
       "    <tr>\n",
       "      <th>1</th>\n",
       "      <td>Asia</td>\n",
       "      <td>Afghanistan</td>\n",
       "      <td>2020-01-01</td>\n",
       "      <td>0.0</td>\n",
       "      <td>0.0</td>\n",
       "      <td>1803.987</td>\n",
       "      <td>0.498</td>\n",
       "    </tr>\n",
       "    <tr>\n",
       "      <th>2</th>\n",
       "      <td>Asia</td>\n",
       "      <td>Afghanistan</td>\n",
       "      <td>2020-02-01</td>\n",
       "      <td>0.0</td>\n",
       "      <td>0.0</td>\n",
       "      <td>1803.987</td>\n",
       "      <td>0.498</td>\n",
       "    </tr>\n",
       "    <tr>\n",
       "      <th>3</th>\n",
       "      <td>Asia</td>\n",
       "      <td>Afghanistan</td>\n",
       "      <td>2020-03-01</td>\n",
       "      <td>0.0</td>\n",
       "      <td>0.0</td>\n",
       "      <td>1803.987</td>\n",
       "      <td>0.498</td>\n",
       "    </tr>\n",
       "    <tr>\n",
       "      <th>4</th>\n",
       "      <td>Asia</td>\n",
       "      <td>Afghanistan</td>\n",
       "      <td>2020-04-01</td>\n",
       "      <td>0.0</td>\n",
       "      <td>0.0</td>\n",
       "      <td>1803.987</td>\n",
       "      <td>0.498</td>\n",
       "    </tr>\n",
       "    <tr>\n",
       "      <th>...</th>\n",
       "      <td>...</td>\n",
       "      <td>...</td>\n",
       "      <td>...</td>\n",
       "      <td>...</td>\n",
       "      <td>...</td>\n",
       "      <td>...</td>\n",
       "      <td>...</td>\n",
       "    </tr>\n",
       "    <tr>\n",
       "      <th>57389</th>\n",
       "      <td>0</td>\n",
       "      <td>International</td>\n",
       "      <td>2020-11-13</td>\n",
       "      <td>696.0</td>\n",
       "      <td>7.0</td>\n",
       "      <td>0.000</td>\n",
       "      <td>0.000</td>\n",
       "    </tr>\n",
       "    <tr>\n",
       "      <th>57390</th>\n",
       "      <td>0</td>\n",
       "      <td>International</td>\n",
       "      <td>2020-11-14</td>\n",
       "      <td>696.0</td>\n",
       "      <td>7.0</td>\n",
       "      <td>0.000</td>\n",
       "      <td>0.000</td>\n",
       "    </tr>\n",
       "    <tr>\n",
       "      <th>57391</th>\n",
       "      <td>0</td>\n",
       "      <td>International</td>\n",
       "      <td>2020-11-15</td>\n",
       "      <td>696.0</td>\n",
       "      <td>7.0</td>\n",
       "      <td>0.000</td>\n",
       "      <td>0.000</td>\n",
       "    </tr>\n",
       "    <tr>\n",
       "      <th>57392</th>\n",
       "      <td>0</td>\n",
       "      <td>International</td>\n",
       "      <td>2020-11-16</td>\n",
       "      <td>696.0</td>\n",
       "      <td>7.0</td>\n",
       "      <td>0.000</td>\n",
       "      <td>0.000</td>\n",
       "    </tr>\n",
       "    <tr>\n",
       "      <th>57393</th>\n",
       "      <td>0</td>\n",
       "      <td>International</td>\n",
       "      <td>2020-11-17</td>\n",
       "      <td>696.0</td>\n",
       "      <td>7.0</td>\n",
       "      <td>0.000</td>\n",
       "      <td>0.000</td>\n",
       "    </tr>\n",
       "  </tbody>\n",
       "</table>\n",
       "<p>57394 rows × 7 columns</p>\n",
       "</div>"
      ],
      "text/plain": [
       "      continent       location        date  total_cases  total_deaths  \\\n",
       "0          Asia    Afghanistan  2019-12-31          0.0           0.0   \n",
       "1          Asia    Afghanistan  2020-01-01          0.0           0.0   \n",
       "2          Asia    Afghanistan  2020-02-01          0.0           0.0   \n",
       "3          Asia    Afghanistan  2020-03-01          0.0           0.0   \n",
       "4          Asia    Afghanistan  2020-04-01          0.0           0.0   \n",
       "...         ...            ...         ...          ...           ...   \n",
       "57389         0  International  2020-11-13        696.0           7.0   \n",
       "57390         0  International  2020-11-14        696.0           7.0   \n",
       "57391         0  International  2020-11-15        696.0           7.0   \n",
       "57392         0  International  2020-11-16        696.0           7.0   \n",
       "57393         0  International  2020-11-17        696.0           7.0   \n",
       "\n",
       "       gdp_per_capita  human_development_index  \n",
       "0            1803.987                    0.498  \n",
       "1            1803.987                    0.498  \n",
       "2            1803.987                    0.498  \n",
       "3            1803.987                    0.498  \n",
       "4            1803.987                    0.498  \n",
       "...               ...                      ...  \n",
       "57389           0.000                    0.000  \n",
       "57390           0.000                    0.000  \n",
       "57391           0.000                    0.000  \n",
       "57392           0.000                    0.000  \n",
       "57393           0.000                    0.000  \n",
       "\n",
       "[57394 rows x 7 columns]"
      ]
     },
     "execution_count": 21,
     "metadata": {},
     "output_type": "execute_result"
    }
   ],
   "source": [
    "df.drop_duplicates()"
   ]
  },
  {
   "cell_type": "markdown",
   "id": "9a720fa8-904a-41bf-a4d7-bd41e247f0b9",
   "metadata": {},
   "source": [
    "# b). Find missing values in all columns"
   ]
  },
  {
   "cell_type": "code",
   "execution_count": 22,
   "id": "80341e4f-afcb-442e-bd70-86e09dc60cf4",
   "metadata": {},
   "outputs": [
    {
     "data": {
      "text/plain": [
       "continent                  0\n",
       "location                   0\n",
       "date                       0\n",
       "total_cases                0\n",
       "total_deaths               0\n",
       "gdp_per_capita             0\n",
       "human_development_index    0\n",
       "dtype: int64"
      ]
     },
     "execution_count": 22,
     "metadata": {},
     "output_type": "execute_result"
    }
   ],
   "source": [
    "df.isnull().sum()"
   ]
  },
  {
   "cell_type": "markdown",
   "id": "77f55c3b-6fdd-482e-a2a0-2295b999ed9a",
   "metadata": {},
   "source": [
    "# \n",
    "c). Remove all observations where continent column value is missing"
   ]
  },
  {
   "cell_type": "code",
   "execution_count": 23,
   "id": "a604cab1-dde7-4c14-95eb-73c0bd9eb8c8",
   "metadata": {},
   "outputs": [
    {
     "data": {
      "text/html": [
       "<div>\n",
       "<style scoped>\n",
       "    .dataframe tbody tr th:only-of-type {\n",
       "        vertical-align: middle;\n",
       "    }\n",
       "\n",
       "    .dataframe tbody tr th {\n",
       "        vertical-align: top;\n",
       "    }\n",
       "\n",
       "    .dataframe thead th {\n",
       "        text-align: right;\n",
       "    }\n",
       "</style>\n",
       "<table border=\"1\" class=\"dataframe\">\n",
       "  <thead>\n",
       "    <tr style=\"text-align: right;\">\n",
       "      <th></th>\n",
       "      <th>continent</th>\n",
       "      <th>location</th>\n",
       "      <th>date</th>\n",
       "      <th>total_cases</th>\n",
       "      <th>total_deaths</th>\n",
       "      <th>gdp_per_capita</th>\n",
       "      <th>human_development_index</th>\n",
       "    </tr>\n",
       "  </thead>\n",
       "  <tbody>\n",
       "    <tr>\n",
       "      <th>0</th>\n",
       "      <td>Asia</td>\n",
       "      <td>Afghanistan</td>\n",
       "      <td>2019-12-31</td>\n",
       "      <td>0.0</td>\n",
       "      <td>0.0</td>\n",
       "      <td>1803.987</td>\n",
       "      <td>0.498</td>\n",
       "    </tr>\n",
       "    <tr>\n",
       "      <th>1</th>\n",
       "      <td>Asia</td>\n",
       "      <td>Afghanistan</td>\n",
       "      <td>2020-01-01</td>\n",
       "      <td>0.0</td>\n",
       "      <td>0.0</td>\n",
       "      <td>1803.987</td>\n",
       "      <td>0.498</td>\n",
       "    </tr>\n",
       "    <tr>\n",
       "      <th>2</th>\n",
       "      <td>Asia</td>\n",
       "      <td>Afghanistan</td>\n",
       "      <td>2020-02-01</td>\n",
       "      <td>0.0</td>\n",
       "      <td>0.0</td>\n",
       "      <td>1803.987</td>\n",
       "      <td>0.498</td>\n",
       "    </tr>\n",
       "    <tr>\n",
       "      <th>3</th>\n",
       "      <td>Asia</td>\n",
       "      <td>Afghanistan</td>\n",
       "      <td>2020-03-01</td>\n",
       "      <td>0.0</td>\n",
       "      <td>0.0</td>\n",
       "      <td>1803.987</td>\n",
       "      <td>0.498</td>\n",
       "    </tr>\n",
       "    <tr>\n",
       "      <th>4</th>\n",
       "      <td>Asia</td>\n",
       "      <td>Afghanistan</td>\n",
       "      <td>2020-04-01</td>\n",
       "      <td>0.0</td>\n",
       "      <td>0.0</td>\n",
       "      <td>1803.987</td>\n",
       "      <td>0.498</td>\n",
       "    </tr>\n",
       "    <tr>\n",
       "      <th>...</th>\n",
       "      <td>...</td>\n",
       "      <td>...</td>\n",
       "      <td>...</td>\n",
       "      <td>...</td>\n",
       "      <td>...</td>\n",
       "      <td>...</td>\n",
       "      <td>...</td>\n",
       "    </tr>\n",
       "    <tr>\n",
       "      <th>57389</th>\n",
       "      <td>0</td>\n",
       "      <td>International</td>\n",
       "      <td>2020-11-13</td>\n",
       "      <td>696.0</td>\n",
       "      <td>7.0</td>\n",
       "      <td>0.000</td>\n",
       "      <td>0.000</td>\n",
       "    </tr>\n",
       "    <tr>\n",
       "      <th>57390</th>\n",
       "      <td>0</td>\n",
       "      <td>International</td>\n",
       "      <td>2020-11-14</td>\n",
       "      <td>696.0</td>\n",
       "      <td>7.0</td>\n",
       "      <td>0.000</td>\n",
       "      <td>0.000</td>\n",
       "    </tr>\n",
       "    <tr>\n",
       "      <th>57391</th>\n",
       "      <td>0</td>\n",
       "      <td>International</td>\n",
       "      <td>2020-11-15</td>\n",
       "      <td>696.0</td>\n",
       "      <td>7.0</td>\n",
       "      <td>0.000</td>\n",
       "      <td>0.000</td>\n",
       "    </tr>\n",
       "    <tr>\n",
       "      <th>57392</th>\n",
       "      <td>0</td>\n",
       "      <td>International</td>\n",
       "      <td>2020-11-16</td>\n",
       "      <td>696.0</td>\n",
       "      <td>7.0</td>\n",
       "      <td>0.000</td>\n",
       "      <td>0.000</td>\n",
       "    </tr>\n",
       "    <tr>\n",
       "      <th>57393</th>\n",
       "      <td>0</td>\n",
       "      <td>International</td>\n",
       "      <td>2020-11-17</td>\n",
       "      <td>696.0</td>\n",
       "      <td>7.0</td>\n",
       "      <td>0.000</td>\n",
       "      <td>0.000</td>\n",
       "    </tr>\n",
       "  </tbody>\n",
       "</table>\n",
       "<p>57394 rows × 7 columns</p>\n",
       "</div>"
      ],
      "text/plain": [
       "      continent       location        date  total_cases  total_deaths  \\\n",
       "0          Asia    Afghanistan  2019-12-31          0.0           0.0   \n",
       "1          Asia    Afghanistan  2020-01-01          0.0           0.0   \n",
       "2          Asia    Afghanistan  2020-02-01          0.0           0.0   \n",
       "3          Asia    Afghanistan  2020-03-01          0.0           0.0   \n",
       "4          Asia    Afghanistan  2020-04-01          0.0           0.0   \n",
       "...         ...            ...         ...          ...           ...   \n",
       "57389         0  International  2020-11-13        696.0           7.0   \n",
       "57390         0  International  2020-11-14        696.0           7.0   \n",
       "57391         0  International  2020-11-15        696.0           7.0   \n",
       "57392         0  International  2020-11-16        696.0           7.0   \n",
       "57393         0  International  2020-11-17        696.0           7.0   \n",
       "\n",
       "       gdp_per_capita  human_development_index  \n",
       "0            1803.987                    0.498  \n",
       "1            1803.987                    0.498  \n",
       "2            1803.987                    0.498  \n",
       "3            1803.987                    0.498  \n",
       "4            1803.987                    0.498  \n",
       "...               ...                      ...  \n",
       "57389           0.000                    0.000  \n",
       "57390           0.000                    0.000  \n",
       "57391           0.000                    0.000  \n",
       "57392           0.000                    0.000  \n",
       "57393           0.000                    0.000  \n",
       "\n",
       "[57394 rows x 7 columns]"
      ]
     },
     "execution_count": 23,
     "metadata": {},
     "output_type": "execute_result"
    }
   ],
   "source": [
    "df.dropna(subset=[\"continent\"])"
   ]
  },
  {
   "cell_type": "markdown",
   "id": "dd707c8c-3b94-4621-82cc-c2f96e38b4e8",
   "metadata": {},
   "source": [
    " # d). Fill all missing values with 0"
   ]
  },
  {
   "cell_type": "code",
   "execution_count": 24,
   "id": "c1716cea-15e9-4eae-8fae-a3f236cf4cad",
   "metadata": {},
   "outputs": [],
   "source": [
    "df= df.fillna(0)"
   ]
  },
  {
   "cell_type": "code",
   "execution_count": 25,
   "id": "d8c8b4c3-30d5-4019-b1cd-6580483637c0",
   "metadata": {},
   "outputs": [],
   "source": [
    "df= df.fillna(0)"
   ]
  },
  {
   "cell_type": "markdown",
   "id": "17e6df11-5adc-4897-a285-f29883ad446b",
   "metadata": {},
   "source": [
    "# 6). Date time format :"
   ]
  },
  {
   "cell_type": "markdown",
   "id": "e99493e6-c917-481e-816c-89128f798746",
   "metadata": {},
   "source": [
    "# a). Convert date column in datetime format using pandas.to_datetime"
   ]
  },
  {
   "cell_type": "code",
   "execution_count": 26,
   "id": "f56b5de4-ca1c-4dbc-a1c8-6cb967a5f0a7",
   "metadata": {},
   "outputs": [],
   "source": [
    "df['date']= pd.to_datetime(df['date'])"
   ]
  },
  {
   "cell_type": "code",
   "execution_count": 27,
   "id": "a2943649-570c-4a5e-b970-e2c6d2558a85",
   "metadata": {},
   "outputs": [
    {
     "data": {
      "text/plain": [
       "continent                          object\n",
       "location                           object\n",
       "date                       datetime64[ns]\n",
       "total_cases                       float64\n",
       "total_deaths                      float64\n",
       "gdp_per_capita                    float64\n",
       "human_development_index           float64\n",
       "dtype: object"
      ]
     },
     "execution_count": 27,
     "metadata": {},
     "output_type": "execute_result"
    }
   ],
   "source": [
    "df.dtypes"
   ]
  },
  {
   "cell_type": "markdown",
   "id": "c2a65dd2-30ef-4604-b647-88e7f0ff55f2",
   "metadata": {},
   "source": [
    "# b). Create new column month after extracting month data from date column"
   ]
  },
  {
   "cell_type": "code",
   "execution_count": 28,
   "id": "acd9263d-0564-4d37-890f-709c9480ca88",
   "metadata": {},
   "outputs": [],
   "source": [
    "df['month'] = pd.DatetimeIndex(df['date']).month"
   ]
  },
  {
   "cell_type": "code",
   "execution_count": 29,
   "id": "387439f2-d596-4f60-a456-c72564c029fa",
   "metadata": {},
   "outputs": [
    {
     "data": {
      "text/html": [
       "<div>\n",
       "<style scoped>\n",
       "    .dataframe tbody tr th:only-of-type {\n",
       "        vertical-align: middle;\n",
       "    }\n",
       "\n",
       "    .dataframe tbody tr th {\n",
       "        vertical-align: top;\n",
       "    }\n",
       "\n",
       "    .dataframe thead th {\n",
       "        text-align: right;\n",
       "    }\n",
       "</style>\n",
       "<table border=\"1\" class=\"dataframe\">\n",
       "  <thead>\n",
       "    <tr style=\"text-align: right;\">\n",
       "      <th></th>\n",
       "      <th>continent</th>\n",
       "      <th>location</th>\n",
       "      <th>date</th>\n",
       "      <th>total_cases</th>\n",
       "      <th>total_deaths</th>\n",
       "      <th>gdp_per_capita</th>\n",
       "      <th>human_development_index</th>\n",
       "      <th>month</th>\n",
       "    </tr>\n",
       "  </thead>\n",
       "  <tbody>\n",
       "    <tr>\n",
       "      <th>0</th>\n",
       "      <td>Asia</td>\n",
       "      <td>Afghanistan</td>\n",
       "      <td>2019-12-31</td>\n",
       "      <td>0.0</td>\n",
       "      <td>0.0</td>\n",
       "      <td>1803.987</td>\n",
       "      <td>0.498</td>\n",
       "      <td>12</td>\n",
       "    </tr>\n",
       "    <tr>\n",
       "      <th>1</th>\n",
       "      <td>Asia</td>\n",
       "      <td>Afghanistan</td>\n",
       "      <td>2020-01-01</td>\n",
       "      <td>0.0</td>\n",
       "      <td>0.0</td>\n",
       "      <td>1803.987</td>\n",
       "      <td>0.498</td>\n",
       "      <td>1</td>\n",
       "    </tr>\n",
       "    <tr>\n",
       "      <th>2</th>\n",
       "      <td>Asia</td>\n",
       "      <td>Afghanistan</td>\n",
       "      <td>2020-02-01</td>\n",
       "      <td>0.0</td>\n",
       "      <td>0.0</td>\n",
       "      <td>1803.987</td>\n",
       "      <td>0.498</td>\n",
       "      <td>2</td>\n",
       "    </tr>\n",
       "    <tr>\n",
       "      <th>3</th>\n",
       "      <td>Asia</td>\n",
       "      <td>Afghanistan</td>\n",
       "      <td>2020-03-01</td>\n",
       "      <td>0.0</td>\n",
       "      <td>0.0</td>\n",
       "      <td>1803.987</td>\n",
       "      <td>0.498</td>\n",
       "      <td>3</td>\n",
       "    </tr>\n",
       "    <tr>\n",
       "      <th>4</th>\n",
       "      <td>Asia</td>\n",
       "      <td>Afghanistan</td>\n",
       "      <td>2020-04-01</td>\n",
       "      <td>0.0</td>\n",
       "      <td>0.0</td>\n",
       "      <td>1803.987</td>\n",
       "      <td>0.498</td>\n",
       "      <td>4</td>\n",
       "    </tr>\n",
       "    <tr>\n",
       "      <th>...</th>\n",
       "      <td>...</td>\n",
       "      <td>...</td>\n",
       "      <td>...</td>\n",
       "      <td>...</td>\n",
       "      <td>...</td>\n",
       "      <td>...</td>\n",
       "      <td>...</td>\n",
       "      <td>...</td>\n",
       "    </tr>\n",
       "    <tr>\n",
       "      <th>57389</th>\n",
       "      <td>0</td>\n",
       "      <td>International</td>\n",
       "      <td>2020-11-13</td>\n",
       "      <td>696.0</td>\n",
       "      <td>7.0</td>\n",
       "      <td>0.000</td>\n",
       "      <td>0.000</td>\n",
       "      <td>11</td>\n",
       "    </tr>\n",
       "    <tr>\n",
       "      <th>57390</th>\n",
       "      <td>0</td>\n",
       "      <td>International</td>\n",
       "      <td>2020-11-14</td>\n",
       "      <td>696.0</td>\n",
       "      <td>7.0</td>\n",
       "      <td>0.000</td>\n",
       "      <td>0.000</td>\n",
       "      <td>11</td>\n",
       "    </tr>\n",
       "    <tr>\n",
       "      <th>57391</th>\n",
       "      <td>0</td>\n",
       "      <td>International</td>\n",
       "      <td>2020-11-15</td>\n",
       "      <td>696.0</td>\n",
       "      <td>7.0</td>\n",
       "      <td>0.000</td>\n",
       "      <td>0.000</td>\n",
       "      <td>11</td>\n",
       "    </tr>\n",
       "    <tr>\n",
       "      <th>57392</th>\n",
       "      <td>0</td>\n",
       "      <td>International</td>\n",
       "      <td>2020-11-16</td>\n",
       "      <td>696.0</td>\n",
       "      <td>7.0</td>\n",
       "      <td>0.000</td>\n",
       "      <td>0.000</td>\n",
       "      <td>11</td>\n",
       "    </tr>\n",
       "    <tr>\n",
       "      <th>57393</th>\n",
       "      <td>0</td>\n",
       "      <td>International</td>\n",
       "      <td>2020-11-17</td>\n",
       "      <td>696.0</td>\n",
       "      <td>7.0</td>\n",
       "      <td>0.000</td>\n",
       "      <td>0.000</td>\n",
       "      <td>11</td>\n",
       "    </tr>\n",
       "  </tbody>\n",
       "</table>\n",
       "<p>57394 rows × 8 columns</p>\n",
       "</div>"
      ],
      "text/plain": [
       "      continent       location       date  total_cases  total_deaths  \\\n",
       "0          Asia    Afghanistan 2019-12-31          0.0           0.0   \n",
       "1          Asia    Afghanistan 2020-01-01          0.0           0.0   \n",
       "2          Asia    Afghanistan 2020-02-01          0.0           0.0   \n",
       "3          Asia    Afghanistan 2020-03-01          0.0           0.0   \n",
       "4          Asia    Afghanistan 2020-04-01          0.0           0.0   \n",
       "...         ...            ...        ...          ...           ...   \n",
       "57389         0  International 2020-11-13        696.0           7.0   \n",
       "57390         0  International 2020-11-14        696.0           7.0   \n",
       "57391         0  International 2020-11-15        696.0           7.0   \n",
       "57392         0  International 2020-11-16        696.0           7.0   \n",
       "57393         0  International 2020-11-17        696.0           7.0   \n",
       "\n",
       "       gdp_per_capita  human_development_index  month  \n",
       "0            1803.987                    0.498     12  \n",
       "1            1803.987                    0.498      1  \n",
       "2            1803.987                    0.498      2  \n",
       "3            1803.987                    0.498      3  \n",
       "4            1803.987                    0.498      4  \n",
       "...               ...                      ...    ...  \n",
       "57389           0.000                    0.000     11  \n",
       "57390           0.000                    0.000     11  \n",
       "57391           0.000                    0.000     11  \n",
       "57392           0.000                    0.000     11  \n",
       "57393           0.000                    0.000     11  \n",
       "\n",
       "[57394 rows x 8 columns]"
      ]
     },
     "execution_count": 29,
     "metadata": {},
     "output_type": "execute_result"
    }
   ],
   "source": [
    "df"
   ]
  },
  {
   "cell_type": "markdown",
   "id": "82eabee1-a5cf-4d2d-afa0-ef44f8714516",
   "metadata": {},
   "source": [
    "# 7). Data Aggregation:"
   ]
  },
  {
   "cell_type": "markdown",
   "id": "0ed6cea6-b7e6-40a8-975e-199f79a2cff1",
   "metadata": {},
   "source": [
    "# a). Find max value in all columns using groupby function on 'continent' column"
   ]
  },
  {
   "cell_type": "code",
   "execution_count": 30,
   "id": "17a24b53-f906-435c-a42d-550763bccf58",
   "metadata": {},
   "outputs": [
    {
     "data": {
      "text/html": [
       "<div>\n",
       "<style scoped>\n",
       "    .dataframe tbody tr th:only-of-type {\n",
       "        vertical-align: middle;\n",
       "    }\n",
       "\n",
       "    .dataframe tbody tr th {\n",
       "        vertical-align: top;\n",
       "    }\n",
       "\n",
       "    .dataframe thead th {\n",
       "        text-align: right;\n",
       "    }\n",
       "</style>\n",
       "<table border=\"1\" class=\"dataframe\">\n",
       "  <thead>\n",
       "    <tr style=\"text-align: right;\">\n",
       "      <th></th>\n",
       "      <th>continent</th>\n",
       "      <th>location</th>\n",
       "      <th>date</th>\n",
       "      <th>total_cases</th>\n",
       "      <th>total_deaths</th>\n",
       "      <th>gdp_per_capita</th>\n",
       "      <th>human_development_index</th>\n",
       "      <th>month</th>\n",
       "    </tr>\n",
       "  </thead>\n",
       "  <tbody>\n",
       "    <tr>\n",
       "      <th>0</th>\n",
       "      <td>0</td>\n",
       "      <td>World</td>\n",
       "      <td>2020-12-11</td>\n",
       "      <td>55154651.0</td>\n",
       "      <td>1328537.0</td>\n",
       "      <td>15469.207</td>\n",
       "      <td>0.000</td>\n",
       "      <td>12</td>\n",
       "    </tr>\n",
       "    <tr>\n",
       "      <th>1</th>\n",
       "      <td>Africa</td>\n",
       "      <td>Zimbabwe</td>\n",
       "      <td>2020-12-11</td>\n",
       "      <td>752269.0</td>\n",
       "      <td>20314.0</td>\n",
       "      <td>26382.287</td>\n",
       "      <td>0.797</td>\n",
       "      <td>12</td>\n",
       "    </tr>\n",
       "    <tr>\n",
       "      <th>2</th>\n",
       "      <td>Asia</td>\n",
       "      <td>Yemen</td>\n",
       "      <td>2020-12-11</td>\n",
       "      <td>8874290.0</td>\n",
       "      <td>130519.0</td>\n",
       "      <td>116935.600</td>\n",
       "      <td>0.933</td>\n",
       "      <td>12</td>\n",
       "    </tr>\n",
       "    <tr>\n",
       "      <th>3</th>\n",
       "      <td>Europe</td>\n",
       "      <td>Vatican</td>\n",
       "      <td>2020-12-11</td>\n",
       "      <td>1991233.0</td>\n",
       "      <td>52147.0</td>\n",
       "      <td>94277.965</td>\n",
       "      <td>0.953</td>\n",
       "      <td>12</td>\n",
       "    </tr>\n",
       "    <tr>\n",
       "      <th>4</th>\n",
       "      <td>North America</td>\n",
       "      <td>United States Virgin Islands</td>\n",
       "      <td>2020-12-11</td>\n",
       "      <td>11205486.0</td>\n",
       "      <td>247220.0</td>\n",
       "      <td>54225.446</td>\n",
       "      <td>0.926</td>\n",
       "      <td>12</td>\n",
       "    </tr>\n",
       "    <tr>\n",
       "      <th>5</th>\n",
       "      <td>Oceania</td>\n",
       "      <td>Wallis and Futuna</td>\n",
       "      <td>2020-12-11</td>\n",
       "      <td>27750.0</td>\n",
       "      <td>907.0</td>\n",
       "      <td>44648.710</td>\n",
       "      <td>0.939</td>\n",
       "      <td>12</td>\n",
       "    </tr>\n",
       "    <tr>\n",
       "      <th>6</th>\n",
       "      <td>South America</td>\n",
       "      <td>Venezuela</td>\n",
       "      <td>2020-12-11</td>\n",
       "      <td>5876464.0</td>\n",
       "      <td>166014.0</td>\n",
       "      <td>22767.037</td>\n",
       "      <td>0.843</td>\n",
       "      <td>12</td>\n",
       "    </tr>\n",
       "  </tbody>\n",
       "</table>\n",
       "</div>"
      ],
      "text/plain": [
       "       continent                      location       date  total_cases  \\\n",
       "0              0                         World 2020-12-11   55154651.0   \n",
       "1         Africa                      Zimbabwe 2020-12-11     752269.0   \n",
       "2           Asia                         Yemen 2020-12-11    8874290.0   \n",
       "3         Europe                       Vatican 2020-12-11    1991233.0   \n",
       "4  North America  United States Virgin Islands 2020-12-11   11205486.0   \n",
       "5        Oceania             Wallis and Futuna 2020-12-11      27750.0   \n",
       "6  South America                     Venezuela 2020-12-11    5876464.0   \n",
       "\n",
       "   total_deaths  gdp_per_capita  human_development_index  month  \n",
       "0     1328537.0       15469.207                    0.000     12  \n",
       "1       20314.0       26382.287                    0.797     12  \n",
       "2      130519.0      116935.600                    0.933     12  \n",
       "3       52147.0       94277.965                    0.953     12  \n",
       "4      247220.0       54225.446                    0.926     12  \n",
       "5         907.0       44648.710                    0.939     12  \n",
       "6      166014.0       22767.037                    0.843     12  "
      ]
     },
     "execution_count": 30,
     "metadata": {},
     "output_type": "execute_result"
    }
   ],
   "source": [
    "df.groupby('continent').max().reset_index()"
   ]
  },
  {
   "cell_type": "markdown",
   "id": "a0424f91-84c7-4b10-aadd-f0fec4cd956f",
   "metadata": {},
   "source": [
    "# b). Store the result in a new dataframe named 'df_groupby'. (Use df_groupby dataframe for all further analysis)"
   ]
  },
  {
   "cell_type": "code",
   "execution_count": 31,
   "id": "8faf1c87-1e4f-413f-bdb2-ce9951a5911c",
   "metadata": {},
   "outputs": [
    {
     "data": {
      "text/html": [
       "<div>\n",
       "<style scoped>\n",
       "    .dataframe tbody tr th:only-of-type {\n",
       "        vertical-align: middle;\n",
       "    }\n",
       "\n",
       "    .dataframe tbody tr th {\n",
       "        vertical-align: top;\n",
       "    }\n",
       "\n",
       "    .dataframe thead th {\n",
       "        text-align: right;\n",
       "    }\n",
       "</style>\n",
       "<table border=\"1\" class=\"dataframe\">\n",
       "  <thead>\n",
       "    <tr style=\"text-align: right;\">\n",
       "      <th></th>\n",
       "      <th>continent</th>\n",
       "      <th>location</th>\n",
       "      <th>date</th>\n",
       "      <th>total_cases</th>\n",
       "      <th>total_deaths</th>\n",
       "      <th>gdp_per_capita</th>\n",
       "      <th>human_development_index</th>\n",
       "      <th>month</th>\n",
       "    </tr>\n",
       "  </thead>\n",
       "  <tbody>\n",
       "    <tr>\n",
       "      <th>0</th>\n",
       "      <td>0</td>\n",
       "      <td>World</td>\n",
       "      <td>2020-12-11</td>\n",
       "      <td>55154651.0</td>\n",
       "      <td>1328537.0</td>\n",
       "      <td>15469.207</td>\n",
       "      <td>0.000</td>\n",
       "      <td>12</td>\n",
       "    </tr>\n",
       "    <tr>\n",
       "      <th>1</th>\n",
       "      <td>Africa</td>\n",
       "      <td>Zimbabwe</td>\n",
       "      <td>2020-12-11</td>\n",
       "      <td>752269.0</td>\n",
       "      <td>20314.0</td>\n",
       "      <td>26382.287</td>\n",
       "      <td>0.797</td>\n",
       "      <td>12</td>\n",
       "    </tr>\n",
       "    <tr>\n",
       "      <th>2</th>\n",
       "      <td>Asia</td>\n",
       "      <td>Yemen</td>\n",
       "      <td>2020-12-11</td>\n",
       "      <td>8874290.0</td>\n",
       "      <td>130519.0</td>\n",
       "      <td>116935.600</td>\n",
       "      <td>0.933</td>\n",
       "      <td>12</td>\n",
       "    </tr>\n",
       "    <tr>\n",
       "      <th>3</th>\n",
       "      <td>Europe</td>\n",
       "      <td>Vatican</td>\n",
       "      <td>2020-12-11</td>\n",
       "      <td>1991233.0</td>\n",
       "      <td>52147.0</td>\n",
       "      <td>94277.965</td>\n",
       "      <td>0.953</td>\n",
       "      <td>12</td>\n",
       "    </tr>\n",
       "    <tr>\n",
       "      <th>4</th>\n",
       "      <td>North America</td>\n",
       "      <td>United States Virgin Islands</td>\n",
       "      <td>2020-12-11</td>\n",
       "      <td>11205486.0</td>\n",
       "      <td>247220.0</td>\n",
       "      <td>54225.446</td>\n",
       "      <td>0.926</td>\n",
       "      <td>12</td>\n",
       "    </tr>\n",
       "    <tr>\n",
       "      <th>5</th>\n",
       "      <td>Oceania</td>\n",
       "      <td>Wallis and Futuna</td>\n",
       "      <td>2020-12-11</td>\n",
       "      <td>27750.0</td>\n",
       "      <td>907.0</td>\n",
       "      <td>44648.710</td>\n",
       "      <td>0.939</td>\n",
       "      <td>12</td>\n",
       "    </tr>\n",
       "    <tr>\n",
       "      <th>6</th>\n",
       "      <td>South America</td>\n",
       "      <td>Venezuela</td>\n",
       "      <td>2020-12-11</td>\n",
       "      <td>5876464.0</td>\n",
       "      <td>166014.0</td>\n",
       "      <td>22767.037</td>\n",
       "      <td>0.843</td>\n",
       "      <td>12</td>\n",
       "    </tr>\n",
       "  </tbody>\n",
       "</table>\n",
       "</div>"
      ],
      "text/plain": [
       "       continent                      location       date  total_cases  \\\n",
       "0              0                         World 2020-12-11   55154651.0   \n",
       "1         Africa                      Zimbabwe 2020-12-11     752269.0   \n",
       "2           Asia                         Yemen 2020-12-11    8874290.0   \n",
       "3         Europe                       Vatican 2020-12-11    1991233.0   \n",
       "4  North America  United States Virgin Islands 2020-12-11   11205486.0   \n",
       "5        Oceania             Wallis and Futuna 2020-12-11      27750.0   \n",
       "6  South America                     Venezuela 2020-12-11    5876464.0   \n",
       "\n",
       "   total_deaths  gdp_per_capita  human_development_index  month  \n",
       "0     1328537.0       15469.207                    0.000     12  \n",
       "1       20314.0       26382.287                    0.797     12  \n",
       "2      130519.0      116935.600                    0.933     12  \n",
       "3       52147.0       94277.965                    0.953     12  \n",
       "4      247220.0       54225.446                    0.926     12  \n",
       "5         907.0       44648.710                    0.939     12  \n",
       "6      166014.0       22767.037                    0.843     12  "
      ]
     },
     "execution_count": 31,
     "metadata": {},
     "output_type": "execute_result"
    }
   ],
   "source": [
    "df_groupby = df.groupby('continent').max().reset_index()\n",
    "df_groupby"
   ]
  },
  {
   "cell_type": "markdown",
   "id": "381005d4-424a-4791-b60f-77d2c6a61901",
   "metadata": {},
   "source": [
    "# 8). Feature Engineering :"
   ]
  },
  {
   "cell_type": "markdown",
   "id": "35ca0287-94c2-4109-aba2-5a480bf8b171",
   "metadata": {},
   "source": [
    "# a). Create a new feature 'total_deaths_to_total_cases' by ratio of 'total_deaths' column to 'total_cases'"
   ]
  },
  {
   "cell_type": "code",
   "execution_count": 32,
   "id": "18dab526-ddd3-4f63-849e-06ade3d1f2dd",
   "metadata": {},
   "outputs": [],
   "source": [
    "df_groupby[\"total_deaths_to_total_cases\"]=df_groupby[\"total_deaths\"]/df_groupby[\"total_cases\"]"
   ]
  },
  {
   "cell_type": "code",
   "execution_count": 33,
   "id": "e23c455b-645d-48fe-9449-5bb160af55a5",
   "metadata": {},
   "outputs": [
    {
     "data": {
      "text/plain": [
       "0    2.408749\n",
       "1    2.700364\n",
       "2    1.470754\n",
       "3    2.618830\n",
       "4    2.206241\n",
       "5    3.268468\n",
       "6    2.825066\n",
       "Name: total_deaths_to_total_cases, dtype: float64"
      ]
     },
     "execution_count": 33,
     "metadata": {},
     "output_type": "execute_result"
    }
   ],
   "source": [
    "df_groupby[\"total_deaths_to_total_cases\"]*100"
   ]
  },
  {
   "cell_type": "code",
   "execution_count": 34,
   "id": "b5cc6f15-11ed-47e4-881d-28cf8a3e3ba6",
   "metadata": {},
   "outputs": [
    {
     "data": {
      "text/html": [
       "<div>\n",
       "<style scoped>\n",
       "    .dataframe tbody tr th:only-of-type {\n",
       "        vertical-align: middle;\n",
       "    }\n",
       "\n",
       "    .dataframe tbody tr th {\n",
       "        vertical-align: top;\n",
       "    }\n",
       "\n",
       "    .dataframe thead th {\n",
       "        text-align: right;\n",
       "    }\n",
       "</style>\n",
       "<table border=\"1\" class=\"dataframe\">\n",
       "  <thead>\n",
       "    <tr style=\"text-align: right;\">\n",
       "      <th></th>\n",
       "      <th>continent</th>\n",
       "      <th>location</th>\n",
       "      <th>date</th>\n",
       "      <th>total_cases</th>\n",
       "      <th>total_deaths</th>\n",
       "      <th>gdp_per_capita</th>\n",
       "      <th>human_development_index</th>\n",
       "      <th>month</th>\n",
       "      <th>total_deaths_to_total_cases</th>\n",
       "    </tr>\n",
       "  </thead>\n",
       "  <tbody>\n",
       "    <tr>\n",
       "      <th>0</th>\n",
       "      <td>0</td>\n",
       "      <td>World</td>\n",
       "      <td>2020-12-11</td>\n",
       "      <td>55154651.0</td>\n",
       "      <td>1328537.0</td>\n",
       "      <td>15469.207</td>\n",
       "      <td>0.000</td>\n",
       "      <td>12</td>\n",
       "      <td>0.024087</td>\n",
       "    </tr>\n",
       "    <tr>\n",
       "      <th>1</th>\n",
       "      <td>Africa</td>\n",
       "      <td>Zimbabwe</td>\n",
       "      <td>2020-12-11</td>\n",
       "      <td>752269.0</td>\n",
       "      <td>20314.0</td>\n",
       "      <td>26382.287</td>\n",
       "      <td>0.797</td>\n",
       "      <td>12</td>\n",
       "      <td>0.027004</td>\n",
       "    </tr>\n",
       "    <tr>\n",
       "      <th>2</th>\n",
       "      <td>Asia</td>\n",
       "      <td>Yemen</td>\n",
       "      <td>2020-12-11</td>\n",
       "      <td>8874290.0</td>\n",
       "      <td>130519.0</td>\n",
       "      <td>116935.600</td>\n",
       "      <td>0.933</td>\n",
       "      <td>12</td>\n",
       "      <td>0.014708</td>\n",
       "    </tr>\n",
       "    <tr>\n",
       "      <th>3</th>\n",
       "      <td>Europe</td>\n",
       "      <td>Vatican</td>\n",
       "      <td>2020-12-11</td>\n",
       "      <td>1991233.0</td>\n",
       "      <td>52147.0</td>\n",
       "      <td>94277.965</td>\n",
       "      <td>0.953</td>\n",
       "      <td>12</td>\n",
       "      <td>0.026188</td>\n",
       "    </tr>\n",
       "    <tr>\n",
       "      <th>4</th>\n",
       "      <td>North America</td>\n",
       "      <td>United States Virgin Islands</td>\n",
       "      <td>2020-12-11</td>\n",
       "      <td>11205486.0</td>\n",
       "      <td>247220.0</td>\n",
       "      <td>54225.446</td>\n",
       "      <td>0.926</td>\n",
       "      <td>12</td>\n",
       "      <td>0.022062</td>\n",
       "    </tr>\n",
       "    <tr>\n",
       "      <th>5</th>\n",
       "      <td>Oceania</td>\n",
       "      <td>Wallis and Futuna</td>\n",
       "      <td>2020-12-11</td>\n",
       "      <td>27750.0</td>\n",
       "      <td>907.0</td>\n",
       "      <td>44648.710</td>\n",
       "      <td>0.939</td>\n",
       "      <td>12</td>\n",
       "      <td>0.032685</td>\n",
       "    </tr>\n",
       "    <tr>\n",
       "      <th>6</th>\n",
       "      <td>South America</td>\n",
       "      <td>Venezuela</td>\n",
       "      <td>2020-12-11</td>\n",
       "      <td>5876464.0</td>\n",
       "      <td>166014.0</td>\n",
       "      <td>22767.037</td>\n",
       "      <td>0.843</td>\n",
       "      <td>12</td>\n",
       "      <td>0.028251</td>\n",
       "    </tr>\n",
       "  </tbody>\n",
       "</table>\n",
       "</div>"
      ],
      "text/plain": [
       "       continent                      location       date  total_cases  \\\n",
       "0              0                         World 2020-12-11   55154651.0   \n",
       "1         Africa                      Zimbabwe 2020-12-11     752269.0   \n",
       "2           Asia                         Yemen 2020-12-11    8874290.0   \n",
       "3         Europe                       Vatican 2020-12-11    1991233.0   \n",
       "4  North America  United States Virgin Islands 2020-12-11   11205486.0   \n",
       "5        Oceania             Wallis and Futuna 2020-12-11      27750.0   \n",
       "6  South America                     Venezuela 2020-12-11    5876464.0   \n",
       "\n",
       "   total_deaths  gdp_per_capita  human_development_index  month  \\\n",
       "0     1328537.0       15469.207                    0.000     12   \n",
       "1       20314.0       26382.287                    0.797     12   \n",
       "2      130519.0      116935.600                    0.933     12   \n",
       "3       52147.0       94277.965                    0.953     12   \n",
       "4      247220.0       54225.446                    0.926     12   \n",
       "5         907.0       44648.710                    0.939     12   \n",
       "6      166014.0       22767.037                    0.843     12   \n",
       "\n",
       "   total_deaths_to_total_cases  \n",
       "0                     0.024087  \n",
       "1                     0.027004  \n",
       "2                     0.014708  \n",
       "3                     0.026188  \n",
       "4                     0.022062  \n",
       "5                     0.032685  \n",
       "6                     0.028251  "
      ]
     },
     "execution_count": 34,
     "metadata": {},
     "output_type": "execute_result"
    }
   ],
   "source": [
    "df_groupby"
   ]
  },
  {
   "cell_type": "markdown",
   "id": "b5978590-24de-49e9-b9ae-85a33bd8a03a",
   "metadata": {},
   "source": [
    "# 9) Data Visualization :"
   ]
  },
  {
   "cell_type": "markdown",
   "id": "037ea64d-ae82-4137-a1dd-0160c1db7d62",
   "metadata": {},
   "source": [
    "# a). Perform Univariate analysis on 'gdp_per_capita' column by plotting histogram using seaborn dist plot."
   ]
  },
  {
   "cell_type": "code",
   "execution_count": 35,
   "id": "5b8dceb3-5cae-46b9-ad14-c68453c4878b",
   "metadata": {},
   "outputs": [
    {
     "name": "stderr",
     "output_type": "stream",
     "text": [
      "C:\\Users\\VICTUS\\AppData\\Local\\Temp\\ipykernel_21032\\537543423.py:1: UserWarning: \n",
      "\n",
      "`distplot` is a deprecated function and will be removed in seaborn v0.14.0.\n",
      "\n",
      "Please adapt your code to use either `displot` (a figure-level function with\n",
      "similar flexibility) or `histplot` (an axes-level function for histograms).\n",
      "\n",
      "For a guide to updating your code to use the new functions, please see\n",
      "https://gist.github.com/mwaskom/de44147ed2974457ad6372750bbe5751\n",
      "\n",
      "  sns.distplot(df[\"gdp_per_capita\"])\n"
     ]
    },
    {
     "data": {
      "text/plain": [
       "<Axes: xlabel='gdp_per_capita', ylabel='Density'>"
      ]
     },
     "execution_count": 35,
     "metadata": {},
     "output_type": "execute_result"
    },
    {
     "data": {
      "image/png": "[encoded data removed]",
      "text/plain": [
       "<Figure size 640x480 with 1 Axes>"
      ]
     },
     "metadata": {},
     "output_type": "display_data"
    }
   ],
   "source": [
    "sns.distplot(df[\"gdp_per_capita\"])"
   ]
  },
  {
   "cell_type": "markdown",
   "id": "69bd39a6-fdda-4816-9060-f3a9ab796101",
   "metadata": {},
   "source": [
    "# b). Plot a scatter plot of 'total_cases' & 'gdp_per_capita'"
   ]
  },
  {
   "cell_type": "code",
   "execution_count": 36,
   "id": "af49e355-7c27-4cd7-b4b8-33a352f0ce77",
   "metadata": {},
   "outputs": [
    {
     "data": {
      "text/plain": [
       "<seaborn.axisgrid.JointGrid at 0x264c8e88440>"
      ]
     },
     "execution_count": 36,
     "metadata": {},
     "output_type": "execute_result"
    },
    {
     "data": {
      "image/png": "[encoded data removed]",
      "text/plain": [
       "<Figure size 600x600 with 3 Axes>"
      ]
     },
     "metadata": {},
     "output_type": "display_data"
    }
   ],
   "source": [
    "sns.jointplot(data=df_groupby,x=\"total_cases\",y=\"gdp_per_capita\",kind=\"scatter\")"
   ]
  },
  {
   "cell_type": "markdown",
   "id": "66fe2a3a-08fa-4c5d-acb8-71bc2aaa70f7",
   "metadata": {},
   "source": [
    "# c). Plot Pairplot on df_groupby dataset."
   ]
  },
  {
   "cell_type": "code",
   "execution_count": 37,
   "id": "922deb1c-3dd8-4f9a-9165-4f806ad1bbbf",
   "metadata": {},
   "outputs": [
    {
     "data": {
      "text/plain": [
       "<seaborn.axisgrid.PairGrid at 0x264c9c8d760>"
      ]
     },
     "execution_count": 37,
     "metadata": {},
     "output_type": "execute_result"
    },
    {
     "data": {
      "image/png": "[encoded data removed]",
      "text/plain": [
       "<Figure size 1500x1500 with 42 Axes>"
      ]
     },
     "metadata": {},
     "output_type": "display_data"
    }
   ],
   "source": [
    "sns.pairplot(data=df_groupby)"
   ]
  },
  {
   "cell_type": "markdown",
   "id": "58b66e69-8963-4459-aef3-ee7fdfe95a8a",
   "metadata": {},
   "source": [
    "# d). Plot a bar plot of 'continent' column with 'total_cases' . Tip : using kind='bar' in seaborn catplot"
   ]
  },
  {
   "cell_type": "code",
   "execution_count": 38,
   "id": "b4d72c9b-5b1c-441d-8f9a-3ddcff8218ed",
   "metadata": {},
   "outputs": [
    {
     "data": {
      "text/plain": [
       "<seaborn.axisgrid.FacetGrid at 0x264cd5f1dc0>"
      ]
     },
     "execution_count": 38,
     "metadata": {},
     "output_type": "execute_result"
    },
    {
     "data": {
      "image/png": "[encoded data removed]",
      "text/plain": [
       "<Figure size 511.111x500 with 1 Axes>"
      ]
     },
     "metadata": {},
     "output_type": "display_data"
    }
   ],
   "source": [
    "sns.catplot(data=df_groupby,x=\"continent\",y=\"total_cases\",kind=\"bar\")"
   ]
  },
  {
   "cell_type": "code",
   "execution_count": null,
   "id": "09e8f5e9-fe7c-426d-8d54-65501365bc1d",
   "metadata": {},
   "outputs": [],
   "source": []
  }
 ],
 "metadata": {
  "kernelspec": {
   "display_name": "Python 3 (ipykernel)",
   "language": "python",
   "name": "python3"
  },
  "language_info": {
   "codemirror_mode": {
    "name": "ipython",
    "version": 3
   },
   "file_extension": ".py",
   "mimetype": "text/x-python",
   "name": "python",
   "nbconvert_exporter": "python",
   "pygments_lexer": "ipython3",
   "version": "3.12.4"
  }
 },
 "nbformat": 4,
 "nbformat_minor": 5
}
